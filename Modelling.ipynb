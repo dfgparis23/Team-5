{
 "cells": [
  {
   "cell_type": "code",
   "execution_count": 14,
   "id": "c720b163-0af8-4328-ad10-5fa32fd83104",
   "metadata": {},
   "outputs": [],
   "source": [
    "import pandas as pd\n",
    "import matplotlib.pyplot as plt\n",
    "import numpy as np"
   ]
  },
  {
   "cell_type": "code",
   "execution_count": 15,
   "id": "8f2d065c-fdb7-4d7d-8332-ca2814d40355",
   "metadata": {},
   "outputs": [],
   "source": [
    "opportunities = pd.read_excel(\"shared_data_read_only/Opportunities.xlsx\")\n",
    "invoice_opportunities = pd.read_excel(\"shared_data_read_only/Invoice and Opportunities.xlsx\")"
   ]
  },
  {
   "cell_type": "code",
   "execution_count": 16,
   "id": "9e2057b2-b0f2-4591-849d-8fe6b4c5203b",
   "metadata": {},
   "outputs": [
    {
     "data": {
      "text/html": [
       "<div>\n",
       "<style scoped>\n",
       "    .dataframe tbody tr th:only-of-type {\n",
       "        vertical-align: middle;\n",
       "    }\n",
       "\n",
       "    .dataframe tbody tr th {\n",
       "        vertical-align: top;\n",
       "    }\n",
       "\n",
       "    .dataframe thead th {\n",
       "        text-align: right;\n",
       "    }\n",
       "</style>\n",
       "<table border=\"1\" class=\"dataframe\">\n",
       "  <thead>\n",
       "    <tr style=\"text-align: right;\">\n",
       "      <th></th>\n",
       "      <th>Opportunity ID</th>\n",
       "      <th>Business Account</th>\n",
       "      <th>Contact ID</th>\n",
       "      <th>Estimated Close Date</th>\n",
       "      <th>Status</th>\n",
       "      <th>Stage</th>\n",
       "      <th>Probability</th>\n",
       "      <th>Estimated amount</th>\n",
       "      <th>Amount received</th>\n",
       "      <th>Difference</th>\n",
       "      <th>...</th>\n",
       "      <th>Theorical payment amount 3</th>\n",
       "      <th>Theorical payment date 4</th>\n",
       "      <th>Theorical payment amount 4</th>\n",
       "      <th>Theorical payment date 5</th>\n",
       "      <th>Theorical payment amount 5</th>\n",
       "      <th>Created On</th>\n",
       "      <th>Last Modified Date</th>\n",
       "      <th>Actual Close Date</th>\n",
       "      <th>Assignment Date</th>\n",
       "      <th>Branch ID</th>\n",
       "    </tr>\n",
       "  </thead>\n",
       "  <tbody>\n",
       "    <tr>\n",
       "      <th>0</th>\n",
       "      <td>6387</td>\n",
       "      <td>C00037</td>\n",
       "      <td>35334.0</td>\n",
       "      <td>2023-11-27</td>\n",
       "      <td>New</td>\n",
       "      <td>Won</td>\n",
       "      <td>100</td>\n",
       "      <td>9000.0</td>\n",
       "      <td>NaN</td>\n",
       "      <td>-9000.0</td>\n",
       "      <td>...</td>\n",
       "      <td>NaN</td>\n",
       "      <td>NaT</td>\n",
       "      <td>NaN</td>\n",
       "      <td>NaT</td>\n",
       "      <td>NaN</td>\n",
       "      <td>2023-10-11 10:59:07.310</td>\n",
       "      <td>2023-10-11 10:59:07.310</td>\n",
       "      <td>NaT</td>\n",
       "      <td>2023-10-11 10:58:16.137</td>\n",
       "      <td>SDLV</td>\n",
       "    </tr>\n",
       "    <tr>\n",
       "      <th>1</th>\n",
       "      <td>6386</td>\n",
       "      <td>C01254</td>\n",
       "      <td>36240.0</td>\n",
       "      <td>2023-10-11</td>\n",
       "      <td>New</td>\n",
       "      <td>Won</td>\n",
       "      <td>100</td>\n",
       "      <td>9000.0</td>\n",
       "      <td>NaN</td>\n",
       "      <td>-9000.0</td>\n",
       "      <td>...</td>\n",
       "      <td>NaN</td>\n",
       "      <td>NaT</td>\n",
       "      <td>NaN</td>\n",
       "      <td>NaT</td>\n",
       "      <td>NaN</td>\n",
       "      <td>2023-10-11 10:55:50.773</td>\n",
       "      <td>2023-10-11 10:55:50.773</td>\n",
       "      <td>NaT</td>\n",
       "      <td>2023-10-11 10:53:26.857</td>\n",
       "      <td>SDLV</td>\n",
       "    </tr>\n",
       "    <tr>\n",
       "      <th>2</th>\n",
       "      <td>6385</td>\n",
       "      <td>C21512</td>\n",
       "      <td>47640.0</td>\n",
       "      <td>2023-10-11</td>\n",
       "      <td>New</td>\n",
       "      <td>Oral agreement</td>\n",
       "      <td>80</td>\n",
       "      <td>140.0</td>\n",
       "      <td>NaN</td>\n",
       "      <td>-140.0</td>\n",
       "      <td>...</td>\n",
       "      <td>NaN</td>\n",
       "      <td>NaT</td>\n",
       "      <td>NaN</td>\n",
       "      <td>NaT</td>\n",
       "      <td>NaN</td>\n",
       "      <td>2023-10-11 08:53:52.533</td>\n",
       "      <td>2023-10-11 08:54:37.860</td>\n",
       "      <td>NaT</td>\n",
       "      <td>2023-10-11 08:52:52.257</td>\n",
       "      <td>SDLV</td>\n",
       "    </tr>\n",
       "    <tr>\n",
       "      <th>3</th>\n",
       "      <td>6384</td>\n",
       "      <td>C21509</td>\n",
       "      <td>47636.0</td>\n",
       "      <td>2023-10-11</td>\n",
       "      <td>New</td>\n",
       "      <td>Oral agreement</td>\n",
       "      <td>80</td>\n",
       "      <td>350.0</td>\n",
       "      <td>NaN</td>\n",
       "      <td>-350.0</td>\n",
       "      <td>...</td>\n",
       "      <td>NaN</td>\n",
       "      <td>NaT</td>\n",
       "      <td>NaN</td>\n",
       "      <td>NaT</td>\n",
       "      <td>NaN</td>\n",
       "      <td>2023-10-11 08:42:41.140</td>\n",
       "      <td>2023-10-11 08:42:41.140</td>\n",
       "      <td>NaT</td>\n",
       "      <td>2023-10-11 08:41:27.513</td>\n",
       "      <td>SDLV</td>\n",
       "    </tr>\n",
       "    <tr>\n",
       "      <th>4</th>\n",
       "      <td>6383</td>\n",
       "      <td>C21508</td>\n",
       "      <td>47635.0</td>\n",
       "      <td>2023-10-10</td>\n",
       "      <td>New</td>\n",
       "      <td>Oral agreement</td>\n",
       "      <td>80</td>\n",
       "      <td>120.0</td>\n",
       "      <td>NaN</td>\n",
       "      <td>-120.0</td>\n",
       "      <td>...</td>\n",
       "      <td>NaN</td>\n",
       "      <td>NaT</td>\n",
       "      <td>NaN</td>\n",
       "      <td>NaT</td>\n",
       "      <td>NaN</td>\n",
       "      <td>2023-10-10 15:54:31.827</td>\n",
       "      <td>2023-10-10 15:56:12.527</td>\n",
       "      <td>NaT</td>\n",
       "      <td>2023-10-10 15:53:17.550</td>\n",
       "      <td>SDLV</td>\n",
       "    </tr>\n",
       "    <tr>\n",
       "      <th>...</th>\n",
       "      <td>...</td>\n",
       "      <td>...</td>\n",
       "      <td>...</td>\n",
       "      <td>...</td>\n",
       "      <td>...</td>\n",
       "      <td>...</td>\n",
       "      <td>...</td>\n",
       "      <td>...</td>\n",
       "      <td>...</td>\n",
       "      <td>...</td>\n",
       "      <td>...</td>\n",
       "      <td>...</td>\n",
       "      <td>...</td>\n",
       "      <td>...</td>\n",
       "      <td>...</td>\n",
       "      <td>...</td>\n",
       "      <td>...</td>\n",
       "      <td>...</td>\n",
       "      <td>...</td>\n",
       "      <td>...</td>\n",
       "      <td>...</td>\n",
       "    </tr>\n",
       "    <tr>\n",
       "      <th>5981</th>\n",
       "      <td>5</td>\n",
       "      <td>C00036</td>\n",
       "      <td>NaN</td>\n",
       "      <td>2020-01-01</td>\n",
       "      <td>Won</td>\n",
       "      <td>Won</td>\n",
       "      <td>100</td>\n",
       "      <td>1059.0</td>\n",
       "      <td>NaN</td>\n",
       "      <td>-1059.0</td>\n",
       "      <td>...</td>\n",
       "      <td>NaN</td>\n",
       "      <td>NaT</td>\n",
       "      <td>NaN</td>\n",
       "      <td>NaT</td>\n",
       "      <td>NaN</td>\n",
       "      <td>2021-02-12 06:10:11.650</td>\n",
       "      <td>2022-12-14 09:45:10.033</td>\n",
       "      <td>2022-12-14</td>\n",
       "      <td>2021-02-12 06:10:11.487</td>\n",
       "      <td>SDLV</td>\n",
       "    </tr>\n",
       "    <tr>\n",
       "      <th>5982</th>\n",
       "      <td>4</td>\n",
       "      <td>C00024</td>\n",
       "      <td>NaN</td>\n",
       "      <td>2020-01-01</td>\n",
       "      <td>Won</td>\n",
       "      <td>Won</td>\n",
       "      <td>200</td>\n",
       "      <td>7500.0</td>\n",
       "      <td>7500.0</td>\n",
       "      <td>0.0</td>\n",
       "      <td>...</td>\n",
       "      <td>NaN</td>\n",
       "      <td>NaT</td>\n",
       "      <td>NaN</td>\n",
       "      <td>NaT</td>\n",
       "      <td>NaN</td>\n",
       "      <td>2021-02-12 06:10:11.167</td>\n",
       "      <td>2021-11-17 15:22:01.390</td>\n",
       "      <td>2021-11-17</td>\n",
       "      <td>2021-02-12 06:10:09.940</td>\n",
       "      <td>SDLV</td>\n",
       "    </tr>\n",
       "    <tr>\n",
       "      <th>5983</th>\n",
       "      <td>3</td>\n",
       "      <td>C00011</td>\n",
       "      <td>NaN</td>\n",
       "      <td>2020-01-01</td>\n",
       "      <td>Won</td>\n",
       "      <td>Won</td>\n",
       "      <td>100</td>\n",
       "      <td>35000.0</td>\n",
       "      <td>NaN</td>\n",
       "      <td>-35000.0</td>\n",
       "      <td>...</td>\n",
       "      <td>NaN</td>\n",
       "      <td>NaT</td>\n",
       "      <td>NaN</td>\n",
       "      <td>NaT</td>\n",
       "      <td>NaN</td>\n",
       "      <td>2021-02-12 06:10:09.633</td>\n",
       "      <td>2021-03-19 07:01:54.480</td>\n",
       "      <td>2021-03-19</td>\n",
       "      <td>2021-02-12 06:10:09.520</td>\n",
       "      <td>SDLV</td>\n",
       "    </tr>\n",
       "    <tr>\n",
       "      <th>5984</th>\n",
       "      <td>2</td>\n",
       "      <td>C00331</td>\n",
       "      <td>NaN</td>\n",
       "      <td>2020-01-01</td>\n",
       "      <td>Won</td>\n",
       "      <td>Won</td>\n",
       "      <td>100</td>\n",
       "      <td>20000.0</td>\n",
       "      <td>NaN</td>\n",
       "      <td>-20000.0</td>\n",
       "      <td>...</td>\n",
       "      <td>NaN</td>\n",
       "      <td>NaT</td>\n",
       "      <td>NaN</td>\n",
       "      <td>NaT</td>\n",
       "      <td>NaN</td>\n",
       "      <td>2021-02-12 06:10:09.020</td>\n",
       "      <td>2021-08-25 11:52:18.820</td>\n",
       "      <td>2021-08-25</td>\n",
       "      <td>NaT</td>\n",
       "      <td>SDLV</td>\n",
       "    </tr>\n",
       "    <tr>\n",
       "      <th>5985</th>\n",
       "      <td>1</td>\n",
       "      <td>C00331</td>\n",
       "      <td>NaN</td>\n",
       "      <td>2020-01-01</td>\n",
       "      <td>Won</td>\n",
       "      <td>Won</td>\n",
       "      <td>100</td>\n",
       "      <td>10000.0</td>\n",
       "      <td>NaN</td>\n",
       "      <td>-10000.0</td>\n",
       "      <td>...</td>\n",
       "      <td>NaN</td>\n",
       "      <td>NaT</td>\n",
       "      <td>NaN</td>\n",
       "      <td>NaT</td>\n",
       "      <td>NaN</td>\n",
       "      <td>2021-02-12 06:10:08.500</td>\n",
       "      <td>2021-03-19 07:01:54.050</td>\n",
       "      <td>2021-03-19</td>\n",
       "      <td>NaT</td>\n",
       "      <td>SDLV</td>\n",
       "    </tr>\n",
       "  </tbody>\n",
       "</table>\n",
       "<p>5986 rows × 43 columns</p>\n",
       "</div>"
      ],
      "text/plain": [
       "      Opportunity ID Business Account  Contact ID Estimated Close Date Status  \\\n",
       "0               6387           C00037     35334.0           2023-11-27    New   \n",
       "1               6386           C01254     36240.0           2023-10-11    New   \n",
       "2               6385           C21512     47640.0           2023-10-11    New   \n",
       "3               6384           C21509     47636.0           2023-10-11    New   \n",
       "4               6383           C21508     47635.0           2023-10-10    New   \n",
       "...              ...              ...         ...                  ...    ...   \n",
       "5981               5           C00036         NaN           2020-01-01    Won   \n",
       "5982               4           C00024         NaN           2020-01-01    Won   \n",
       "5983               3           C00011         NaN           2020-01-01    Won   \n",
       "5984               2           C00331         NaN           2020-01-01    Won   \n",
       "5985               1           C00331         NaN           2020-01-01    Won   \n",
       "\n",
       "               Stage  Probability  Estimated amount  Amount received  \\\n",
       "0                Won          100            9000.0              NaN   \n",
       "1                Won          100            9000.0              NaN   \n",
       "2     Oral agreement           80             140.0              NaN   \n",
       "3     Oral agreement           80             350.0              NaN   \n",
       "4     Oral agreement           80             120.0              NaN   \n",
       "...              ...          ...               ...              ...   \n",
       "5981             Won          100            1059.0              NaN   \n",
       "5982             Won          200            7500.0           7500.0   \n",
       "5983             Won          100           35000.0              NaN   \n",
       "5984             Won          100           20000.0              NaN   \n",
       "5985             Won          100           10000.0              NaN   \n",
       "\n",
       "      Difference  ...  Theorical payment amount 3  Theorical payment date 4  \\\n",
       "0        -9000.0  ...                         NaN                       NaT   \n",
       "1        -9000.0  ...                         NaN                       NaT   \n",
       "2         -140.0  ...                         NaN                       NaT   \n",
       "3         -350.0  ...                         NaN                       NaT   \n",
       "4         -120.0  ...                         NaN                       NaT   \n",
       "...          ...  ...                         ...                       ...   \n",
       "5981     -1059.0  ...                         NaN                       NaT   \n",
       "5982         0.0  ...                         NaN                       NaT   \n",
       "5983    -35000.0  ...                         NaN                       NaT   \n",
       "5984    -20000.0  ...                         NaN                       NaT   \n",
       "5985    -10000.0  ...                         NaN                       NaT   \n",
       "\n",
       "     Theorical payment amount 4 Theorical payment date 5  \\\n",
       "0                           NaN                      NaT   \n",
       "1                           NaN                      NaT   \n",
       "2                           NaN                      NaT   \n",
       "3                           NaN                      NaT   \n",
       "4                           NaN                      NaT   \n",
       "...                         ...                      ...   \n",
       "5981                        NaN                      NaT   \n",
       "5982                        NaN                      NaT   \n",
       "5983                        NaN                      NaT   \n",
       "5984                        NaN                      NaT   \n",
       "5985                        NaN                      NaT   \n",
       "\n",
       "     Theorical payment amount 5              Created On  \\\n",
       "0                           NaN 2023-10-11 10:59:07.310   \n",
       "1                           NaN 2023-10-11 10:55:50.773   \n",
       "2                           NaN 2023-10-11 08:53:52.533   \n",
       "3                           NaN 2023-10-11 08:42:41.140   \n",
       "4                           NaN 2023-10-10 15:54:31.827   \n",
       "...                         ...                     ...   \n",
       "5981                        NaN 2021-02-12 06:10:11.650   \n",
       "5982                        NaN 2021-02-12 06:10:11.167   \n",
       "5983                        NaN 2021-02-12 06:10:09.633   \n",
       "5984                        NaN 2021-02-12 06:10:09.020   \n",
       "5985                        NaN 2021-02-12 06:10:08.500   \n",
       "\n",
       "          Last Modified Date Actual Close Date         Assignment Date  \\\n",
       "0    2023-10-11 10:59:07.310               NaT 2023-10-11 10:58:16.137   \n",
       "1    2023-10-11 10:55:50.773               NaT 2023-10-11 10:53:26.857   \n",
       "2    2023-10-11 08:54:37.860               NaT 2023-10-11 08:52:52.257   \n",
       "3    2023-10-11 08:42:41.140               NaT 2023-10-11 08:41:27.513   \n",
       "4    2023-10-10 15:56:12.527               NaT 2023-10-10 15:53:17.550   \n",
       "...                      ...               ...                     ...   \n",
       "5981 2022-12-14 09:45:10.033        2022-12-14 2021-02-12 06:10:11.487   \n",
       "5982 2021-11-17 15:22:01.390        2021-11-17 2021-02-12 06:10:09.940   \n",
       "5983 2021-03-19 07:01:54.480        2021-03-19 2021-02-12 06:10:09.520   \n",
       "5984 2021-08-25 11:52:18.820        2021-08-25                     NaT   \n",
       "5985 2021-03-19 07:01:54.050        2021-03-19                     NaT   \n",
       "\n",
       "     Branch ID  \n",
       "0         SDLV  \n",
       "1         SDLV  \n",
       "2         SDLV  \n",
       "3         SDLV  \n",
       "4         SDLV  \n",
       "...        ...  \n",
       "5981      SDLV  \n",
       "5982      SDLV  \n",
       "5983      SDLV  \n",
       "5984      SDLV  \n",
       "5985      SDLV  \n",
       "\n",
       "[5986 rows x 43 columns]"
      ]
     },
     "execution_count": 16,
     "metadata": {},
     "output_type": "execute_result"
    }
   ],
   "source": [
    "opportunities"
   ]
  },
  {
   "cell_type": "code",
   "execution_count": 17,
   "id": "4d08a5c1-afa1-405a-8758-ef8e0fe2aeca",
   "metadata": {},
   "outputs": [
    {
     "name": "stdout",
     "output_type": "stream",
     "text": [
      "               Type Reference Nbr. Customer     Amount  Opportunity ID\n",
      "Date                                                                  \n",
      "2020-01-01  Invoice      FC0000010   C00621  350000.00              76\n",
      "2020-03-29  Invoice      FC0000007   C00589    3000.00            1056\n",
      "2020-04-28  Invoice      FC0000205   C00036     209.08               6\n",
      "2020-05-07  Invoice      FC0000209   C01533  436988.09            1666\n",
      "2020-08-20  Invoice      FC0000734   C01334    1478.40            2285\n",
      "...             ...            ...      ...        ...             ...\n",
      "2023-10-06  Invoice      FC0004597   C00451   15000.00            4295\n",
      "2023-10-06  Invoice      FC0004605   C19104   83954.00            5708\n",
      "2023-10-09  Invoice      FC0004598   C01196   54531.00            5829\n",
      "2023-10-09  Invoice      FC0004607   C01388  241253.00            1863\n",
      "2023-10-10  Invoice      FC0004608   C06507    5000.00            4504\n",
      "\n",
      "[3238 rows x 5 columns]\n"
     ]
    }
   ],
   "source": [
    "invoice_opportunities = invoice_opportunities.set_index(\"Date\")\n",
    "invoice_opportunities.sort_index(inplace=True)\n",
    "print(invoice_opportunities)"
   ]
  },
  {
   "cell_type": "code",
   "execution_count": 18,
   "id": "0b59f47a-4a24-452f-a863-d16ab4bc91d2",
   "metadata": {},
   "outputs": [
    {
     "data": {
      "text/html": [
       "<div>\n",
       "<style scoped>\n",
       "    .dataframe tbody tr th:only-of-type {\n",
       "        vertical-align: middle;\n",
       "    }\n",
       "\n",
       "    .dataframe tbody tr th {\n",
       "        vertical-align: top;\n",
       "    }\n",
       "\n",
       "    .dataframe thead th {\n",
       "        text-align: right;\n",
       "    }\n",
       "</style>\n",
       "<table border=\"1\" class=\"dataframe\">\n",
       "  <thead>\n",
       "    <tr style=\"text-align: right;\">\n",
       "      <th></th>\n",
       "      <th></th>\n",
       "      <th>Amount</th>\n",
       "      <th>Opportunity ID</th>\n",
       "    </tr>\n",
       "    <tr>\n",
       "      <th>Date</th>\n",
       "      <th>Date</th>\n",
       "      <th></th>\n",
       "      <th></th>\n",
       "    </tr>\n",
       "  </thead>\n",
       "  <tbody>\n",
       "    <tr>\n",
       "      <th rowspan=\"5\" valign=\"top\">2020</th>\n",
       "      <th>1</th>\n",
       "      <td>350000.00</td>\n",
       "      <td>76</td>\n",
       "    </tr>\n",
       "    <tr>\n",
       "      <th>3</th>\n",
       "      <td>3000.00</td>\n",
       "      <td>1056</td>\n",
       "    </tr>\n",
       "    <tr>\n",
       "      <th>4</th>\n",
       "      <td>209.08</td>\n",
       "      <td>6</td>\n",
       "    </tr>\n",
       "    <tr>\n",
       "      <th>5</th>\n",
       "      <td>436988.09</td>\n",
       "      <td>1666</td>\n",
       "    </tr>\n",
       "    <tr>\n",
       "      <th>8</th>\n",
       "      <td>1478.40</td>\n",
       "      <td>2285</td>\n",
       "    </tr>\n",
       "    <tr>\n",
       "      <th rowspan=\"12\" valign=\"top\">2021</th>\n",
       "      <th>1</th>\n",
       "      <td>283466.91</td>\n",
       "      <td>19540</td>\n",
       "    </tr>\n",
       "    <tr>\n",
       "      <th>2</th>\n",
       "      <td>1236812.39</td>\n",
       "      <td>68361</td>\n",
       "    </tr>\n",
       "    <tr>\n",
       "      <th>3</th>\n",
       "      <td>2923682.43</td>\n",
       "      <td>155450</td>\n",
       "    </tr>\n",
       "    <tr>\n",
       "      <th>4</th>\n",
       "      <td>1009514.52</td>\n",
       "      <td>81575</td>\n",
       "    </tr>\n",
       "    <tr>\n",
       "      <th>5</th>\n",
       "      <td>2053851.04</td>\n",
       "      <td>481862</td>\n",
       "    </tr>\n",
       "    <tr>\n",
       "      <th>6</th>\n",
       "      <td>966967.21</td>\n",
       "      <td>280847</td>\n",
       "    </tr>\n",
       "    <tr>\n",
       "      <th>7</th>\n",
       "      <td>1953172.66</td>\n",
       "      <td>169652</td>\n",
       "    </tr>\n",
       "    <tr>\n",
       "      <th>8</th>\n",
       "      <td>909884.98</td>\n",
       "      <td>79623</td>\n",
       "    </tr>\n",
       "    <tr>\n",
       "      <th>9</th>\n",
       "      <td>1540729.04</td>\n",
       "      <td>168293</td>\n",
       "    </tr>\n",
       "    <tr>\n",
       "      <th>10</th>\n",
       "      <td>1858788.91</td>\n",
       "      <td>124300</td>\n",
       "    </tr>\n",
       "    <tr>\n",
       "      <th>11</th>\n",
       "      <td>1059356.92</td>\n",
       "      <td>271128</td>\n",
       "    </tr>\n",
       "    <tr>\n",
       "      <th>12</th>\n",
       "      <td>3072087.62</td>\n",
       "      <td>402743</td>\n",
       "    </tr>\n",
       "    <tr>\n",
       "      <th rowspan=\"12\" valign=\"top\">2022</th>\n",
       "      <th>1</th>\n",
       "      <td>2048557.68</td>\n",
       "      <td>204934</td>\n",
       "    </tr>\n",
       "    <tr>\n",
       "      <th>2</th>\n",
       "      <td>2289052.26</td>\n",
       "      <td>161932</td>\n",
       "    </tr>\n",
       "    <tr>\n",
       "      <th>3</th>\n",
       "      <td>1157145.02</td>\n",
       "      <td>284884</td>\n",
       "    </tr>\n",
       "    <tr>\n",
       "      <th>4</th>\n",
       "      <td>996524.20</td>\n",
       "      <td>354398</td>\n",
       "    </tr>\n",
       "    <tr>\n",
       "      <th>5</th>\n",
       "      <td>1856440.09</td>\n",
       "      <td>1222990</td>\n",
       "    </tr>\n",
       "    <tr>\n",
       "      <th>6</th>\n",
       "      <td>2240583.42</td>\n",
       "      <td>601388</td>\n",
       "    </tr>\n",
       "    <tr>\n",
       "      <th>7</th>\n",
       "      <td>1340618.95</td>\n",
       "      <td>348154</td>\n",
       "    </tr>\n",
       "    <tr>\n",
       "      <th>8</th>\n",
       "      <td>793745.60</td>\n",
       "      <td>132305</td>\n",
       "    </tr>\n",
       "    <tr>\n",
       "      <th>9</th>\n",
       "      <td>1578243.48</td>\n",
       "      <td>300936</td>\n",
       "    </tr>\n",
       "    <tr>\n",
       "      <th>10</th>\n",
       "      <td>1185796.52</td>\n",
       "      <td>343761</td>\n",
       "    </tr>\n",
       "    <tr>\n",
       "      <th>11</th>\n",
       "      <td>2861128.78</td>\n",
       "      <td>619266</td>\n",
       "    </tr>\n",
       "    <tr>\n",
       "      <th>12</th>\n",
       "      <td>1806621.86</td>\n",
       "      <td>554677</td>\n",
       "    </tr>\n",
       "    <tr>\n",
       "      <th rowspan=\"10\" valign=\"top\">2023</th>\n",
       "      <th>1</th>\n",
       "      <td>1024514.16</td>\n",
       "      <td>415916</td>\n",
       "    </tr>\n",
       "    <tr>\n",
       "      <th>2</th>\n",
       "      <td>1238192.27</td>\n",
       "      <td>242555</td>\n",
       "    </tr>\n",
       "    <tr>\n",
       "      <th>3</th>\n",
       "      <td>1814223.80</td>\n",
       "      <td>263039</td>\n",
       "    </tr>\n",
       "    <tr>\n",
       "      <th>4</th>\n",
       "      <td>2133380.18</td>\n",
       "      <td>542546</td>\n",
       "    </tr>\n",
       "    <tr>\n",
       "      <th>5</th>\n",
       "      <td>1493330.72</td>\n",
       "      <td>358364</td>\n",
       "    </tr>\n",
       "    <tr>\n",
       "      <th>6</th>\n",
       "      <td>2209206.63</td>\n",
       "      <td>511911</td>\n",
       "    </tr>\n",
       "    <tr>\n",
       "      <th>7</th>\n",
       "      <td>3475586.67</td>\n",
       "      <td>456354</td>\n",
       "    </tr>\n",
       "    <tr>\n",
       "      <th>8</th>\n",
       "      <td>1368857.00</td>\n",
       "      <td>239674</td>\n",
       "    </tr>\n",
       "    <tr>\n",
       "      <th>9</th>\n",
       "      <td>2485528.55</td>\n",
       "      <td>392544</td>\n",
       "    </tr>\n",
       "    <tr>\n",
       "      <th>10</th>\n",
       "      <td>495770.00</td>\n",
       "      <td>69219</td>\n",
       "    </tr>\n",
       "  </tbody>\n",
       "</table>\n",
       "</div>"
      ],
      "text/plain": [
       "               Amount  Opportunity ID\n",
       "Date Date                            \n",
       "2020 1      350000.00              76\n",
       "     3        3000.00            1056\n",
       "     4         209.08               6\n",
       "     5      436988.09            1666\n",
       "     8        1478.40            2285\n",
       "2021 1      283466.91           19540\n",
       "     2     1236812.39           68361\n",
       "     3     2923682.43          155450\n",
       "     4     1009514.52           81575\n",
       "     5     2053851.04          481862\n",
       "     6      966967.21          280847\n",
       "     7     1953172.66          169652\n",
       "     8      909884.98           79623\n",
       "     9     1540729.04          168293\n",
       "     10    1858788.91          124300\n",
       "     11    1059356.92          271128\n",
       "     12    3072087.62          402743\n",
       "2022 1     2048557.68          204934\n",
       "     2     2289052.26          161932\n",
       "     3     1157145.02          284884\n",
       "     4      996524.20          354398\n",
       "     5     1856440.09         1222990\n",
       "     6     2240583.42          601388\n",
       "     7     1340618.95          348154\n",
       "     8      793745.60          132305\n",
       "     9     1578243.48          300936\n",
       "     10    1185796.52          343761\n",
       "     11    2861128.78          619266\n",
       "     12    1806621.86          554677\n",
       "2023 1     1024514.16          415916\n",
       "     2     1238192.27          242555\n",
       "     3     1814223.80          263039\n",
       "     4     2133380.18          542546\n",
       "     5     1493330.72          358364\n",
       "     6     2209206.63          511911\n",
       "     7     3475586.67          456354\n",
       "     8     1368857.00          239674\n",
       "     9     2485528.55          392544\n",
       "     10     495770.00           69219"
      ]
     },
     "execution_count": 18,
     "metadata": {},
     "output_type": "execute_result"
    }
   ],
   "source": [
    "month_invoices = invoice_opportunities.groupby([lambda x: x.year, lambda x: x.month]).sum()\n",
    "month_invoices"
   ]
  },
  {
   "cell_type": "code",
   "execution_count": 19,
   "id": "228ddc49-abe1-424b-9996-d4a60d653d87",
   "metadata": {},
   "outputs": [
    {
     "data": {
      "text/plain": [
       "[<matplotlib.lines.Line2D at 0x7f8b21ab2fd0>]"
      ]
     },
     "execution_count": 19,
     "metadata": {},
     "output_type": "execute_result"
    },
    {
     "data": {
      "image/png": "[encoded data removed]",
      "text/plain": [
       "<Figure size 432x288 with 1 Axes>"
      ]
     },
     "metadata": {
      "needs_background": "light"
     },
     "output_type": "display_data"
    }
   ],
   "source": [
    "month_invoices = month_invoices[5:]\n",
    "plt.plot(month_invoices[\"Amount\"].values)"
   ]
  },
  {
   "cell_type": "code",
   "execution_count": 20,
   "id": "2589ed1e-161e-4e6c-b201-352684c37ad2",
   "metadata": {},
   "outputs": [
    {
     "name": "stdout",
     "output_type": "stream",
     "text": [
      "         Date  consumer_price_index\n",
      "24 2021-01-01                105.12\n",
      "25 2021-02-01                105.12\n",
      "26 2021-03-01                105.75\n",
      "27 2021-04-01                105.86\n",
      "28 2021-05-01                106.20\n",
      "29 2021-06-01                106.34\n",
      "30 2021-07-01                106.40\n",
      "31 2021-08-01                107.05\n",
      "32 2021-09-01                106.81\n",
      "33 2021-10-01                107.25\n",
      "34 2021-11-01                107.64\n",
      "35 2021-12-01                107.85\n",
      "36 2022-01-01                108.12\n",
      "37 2022-02-01                108.94\n",
      "38 2022-03-01                110.49\n",
      "39 2022-04-01                110.97\n",
      "40 2022-05-01                111.72\n",
      "41 2022-06-01                112.55\n",
      "42 2022-07-01                112.87\n",
      "43 2022-08-01                113.38\n",
      "44 2022-09-01                112.74\n",
      "45 2022-10-01                113.90\n",
      "46 2022-11-01                114.26\n",
      "47 2022-12-01                114.16\n",
      "48 2023-01-01                114.60\n",
      "49 2023-02-01                115.78\n",
      "50 2023-03-01                116.79\n",
      "51 2023-04-01                117.50\n",
      "52 2023-05-01                117.44\n",
      "53 2023-06-01                117.65\n",
      "54 2023-07-01                117.71\n",
      "55 2023-08-01                118.89\n",
      "               Amount  Opportunity ID\n",
      "Date Date                            \n",
      "2021 1      283466.91           19540\n",
      "     2     1236812.39           68361\n",
      "     3     2923682.43          155450\n",
      "     4     1009514.52           81575\n",
      "     5     2053851.04          481862\n",
      "     6      966967.21          280847\n",
      "     7     1953172.66          169652\n",
      "     8      909884.98           79623\n",
      "     9     1540729.04          168293\n",
      "     10    1858788.91          124300\n",
      "     11    1059356.92          271128\n",
      "     12    3072087.62          402743\n",
      "2022 1     2048557.68          204934\n",
      "     2     2289052.26          161932\n",
      "     3     1157145.02          284884\n",
      "     4      996524.20          354398\n",
      "     5     1856440.09         1222990\n",
      "     6     2240583.42          601388\n",
      "     7     1340618.95          348154\n",
      "     8      793745.60          132305\n",
      "     9     1578243.48          300936\n",
      "     10    1185796.52          343761\n",
      "     11    2861128.78          619266\n",
      "     12    1806621.86          554677\n",
      "2023 1     1024514.16          415916\n",
      "     2     1238192.27          242555\n",
      "     3     1814223.80          263039\n",
      "     4     2133380.18          542546\n",
      "     5     1493330.72          358364\n",
      "     6     2209206.63          511911\n",
      "     7     3475586.67          456354\n",
      "     8     1368857.00          239674\n",
      "     9     2485528.55          392544\n",
      "     10     495770.00           69219\n"
     ]
    }
   ],
   "source": [
    "consumer_price_index = pd.read_excel(\"shared_data_read_only/consumer_price_index.xlsx\")\n",
    "consumer_price_index = consumer_price_index[24:]\n",
    "print(consumer_price_index)\n",
    "print(month_invoices)"
   ]
  },
  {
   "cell_type": "code",
   "execution_count": 21,
   "id": "fd310cc0-c34c-4d16-ae24-8d2d96366335",
   "metadata": {},
   "outputs": [
    {
     "data": {
      "text/plain": [
       "[<matplotlib.lines.Line2D at 0x7f8b121b60b8>]"
      ]
     },
     "execution_count": 21,
     "metadata": {},
     "output_type": "execute_result"
    },
    {
     "data": {
      "image/png": "[encoded data removed]",
      "text/plain": [
       "<Figure size 432x288 with 1 Axes>"
      ]
     },
     "metadata": {
      "needs_background": "light"
     },
     "output_type": "display_data"
    }
   ],
   "source": [
    "plt.plot(consumer_price_index[\"consumer_price_index\"].values)"
   ]
  },
  {
   "cell_type": "code",
   "execution_count": 41,
   "id": "d416d96b-3a0f-4810-9673-ab6fc557acd7",
   "metadata": {},
   "outputs": [],
   "source": [
    "cpi_pct = consumer_price_index[\"consumer_price_index\"].pct_change()[1:]\n",
    "invoices_pct = month_invoices[\"Amount\"][:-2].pct_change()[1:]"
   ]
  },
  {
   "cell_type": "code",
   "execution_count": 42,
   "id": "72619244-90f1-4639-a13d-04f614b18efe",
   "metadata": {},
   "outputs": [
    {
     "name": "stdout",
     "output_type": "stream",
     "text": [
      "[[ 1.         -0.29565145]\n",
      " [-0.29565145  1.        ]]\n"
     ]
    }
   ],
   "source": [
    "print(np.corrcoef(cpi_pct, invoices_pct))"
   ]
  },
  {
   "cell_type": "code",
   "execution_count": 45,
   "id": "3f517c18-a840-4d0b-b301-075ca641f7c2",
   "metadata": {},
   "outputs": [
    {
     "data": {
      "text/plain": [
       "[<matplotlib.lines.Line2D at 0x7f8b1222a9b0>]"
      ]
     },
     "execution_count": 45,
     "metadata": {},
     "output_type": "execute_result"
    },
    {
     "data": {
      "image/png": "[encoded data removed]",
      "text/plain": [
       "<Figure size 432x288 with 1 Axes>"
      ]
     },
     "metadata": {
      "needs_background": "light"
     },
     "output_type": "display_data"
    }
   ],
   "source": [
    "CAC = pd.read_csv(\"shared_documents/^FCHI.csv\")\n",
    "CAC_ts = CAC[\"Close\"].pct_change()[13:]\n",
    "plt.plot(CAC_ts)"
   ]
  },
  {
   "cell_type": "code",
   "execution_count": 48,
   "id": "8427a327-9b42-4529-9e9f-9dcd08c8f4f1",
   "metadata": {},
   "outputs": [
    {
     "name": "stdout",
     "output_type": "stream",
     "text": [
      "[[1.         0.27077992]\n",
      " [0.27077992 1.        ]]\n",
      "[[1.         0.09958588]\n",
      " [0.09958588 1.        ]]\n"
     ]
    }
   ],
   "source": [
    "print(np.corrcoef(CAC_ts, invoices_pct))\n",
    "print(np.corrcoef(CAC_ts, cpi_pct))"
   ]
  },
  {
   "cell_type": "markdown",
   "id": "f42d3e78-19a5-4fc1-940d-ffb271987b1e",
   "metadata": {},
   "source": [
    "Linear Regression"
   ]
  },
  {
   "cell_type": "code",
   "execution_count": 115,
   "id": "28e9b4e1-e179-4724-9bf6-28f1811fdd6c",
   "metadata": {},
   "outputs": [],
   "source": [
    "from sklearn.linear_model import Ridge\n",
    "y = invoices_pct\n",
    "d = {'CAC': CAC_ts.values, 'CPI': cpi_pct.values} \n",
    "X = pd.DataFrame(d)\n",
    "ridge = Ridge(alpha=1.0)\n",
    "ridge_fit = ridge.fit(X , y)\n",
    "# Basic Ridge but to forecast we need to know CAC change and CPI change"
   ]
  },
  {
   "cell_type": "markdown",
   "id": "e498b18b-0e07-4510-927a-fdd6919180bc",
   "metadata": {},
   "source": [
    "ARIMA model"
   ]
  },
  {
   "cell_type": "code",
   "execution_count": 116,
   "id": "0afcbdc3-2275-4506-8ee5-9c720805aa6c",
   "metadata": {},
   "outputs": [],
   "source": [
    "from statsmodels.tsa.stattools import adfuller\n",
    "\n",
    "def adfuller_test(serie):\n",
    "    result=adfuller(serie)\n",
    "    labels = ['ADF Test Statistic','p-value','#Lags Used','Number of Observations Used']\n",
    "    for value,label in zip(result,labels):\n",
    "        print(label+' : '+str(value) )\n",
    "    if result[1] <= 0.05:\n",
    "        print(\"P value is less than 0.05 that means we can reject the null hypothesis(Ho). Therefore we can conclude that data has no unit root and is stationary\")\n",
    "    else:\n",
    "        print(\"Weak evidence against null hypothesis that means time series has a unit root which indicates that it is non-stationary \")"
   ]
  },
  {
   "cell_type": "code",
   "execution_count": 117,
   "id": "c500155c-5920-4499-946c-56b3a792fa44",
   "metadata": {},
   "outputs": [
    {
     "name": "stdout",
     "output_type": "stream",
     "text": [
      "ADF Test Statistic : -5.009813383380129\n",
      "p-value : 2.122178482260018e-05\n",
      "#Lags Used : 3\n",
      "Number of Observations Used : 27\n",
      "P value is less than 0.05 that means we can reject the null hypothesis(Ho). Therefore we can conclude that data has no unit root and is stationary\n"
     ]
    }
   ],
   "source": [
    "adfuller_test(invoices_pct)"
   ]
  },
  {
   "cell_type": "code",
   "execution_count": 95,
   "id": "2ab84561-33a7-4345-a802-9c510dd37f6c",
   "metadata": {},
   "outputs": [
    {
     "data": {
      "image/png": "[encoded data removed]",
      "text/plain": [
       "<Figure size 864x576 with 2 Axes>"
      ]
     },
     "metadata": {
      "needs_background": "light"
     },
     "output_type": "display_data"
    }
   ],
   "source": [
    "from statsmodels.graphics.tsaplots import plot_acf,plot_pacf\n",
    "import statsmodels.api as sm\n",
    "fig = plt.figure(figsize=(12,8))\n",
    "ax1 = fig.add_subplot(211)\n",
    "fig = sm.graphics.tsa.plot_acf(invoices_pct,lags=13,ax=ax1)\n",
    "ax2 = fig.add_subplot(212)\n",
    "fig = sm.graphics.tsa.plot_pacf(invoices_pct,lags=13,ax=ax2)"
   ]
  },
  {
   "cell_type": "markdown",
   "id": "924d137b-634b-4ad7-a535-7576f7f3761b",
   "metadata": {},
   "source": [
    "Remarques : pas d'autocorrelation à un certain ordre significatif, ni d'autocorrelation partielles significative. Ainsi, bien que la série soit stationnaire, il est compliqué de faire des prédictions sur cette série. Le meilleure ARIMA est un ARIMA(0, 0, 0) donc a série est considérée comme un bruit blanc"
   ]
  },
  {
   "cell_type": "code",
   "execution_count": 118,
   "id": "37b9e4a5-b5e0-4f81-8968-f6364a5463c9",
   "metadata": {},
   "outputs": [],
   "source": [
    "import warnings\n",
    "warnings.filterwarnings(\"ignore\")\n",
    "\"\"\"\n",
    "min_aic = 1000000\n",
    "res = (0, 0, 0)\n",
    "for p in range(12):\n",
    "    for d in range(12):\n",
    "        model = ARIMA(series, order=(p,d,0))\n",
    "        model_fit = model.fit()\n",
    "        if model_fit.aic < min_aic:\n",
    "            min_aic = model_fit.aic\n",
    "            res = (p, d, 0)\n",
    "\"\"\"\n",
    "res = (1, 0, 0)"
   ]
  },
  {
   "cell_type": "code",
   "execution_count": 111,
   "id": "d4bc9967-15bc-4732-b639-9e70c790df7a",
   "metadata": {},
   "outputs": [
    {
     "name": "stdout",
     "output_type": "stream",
     "text": [
      "(1, 0, 0)\n"
     ]
    }
   ],
   "source": [
    "print(res)"
   ]
  },
  {
   "cell_type": "code",
   "execution_count": 112,
   "id": "b832e54d-9a35-494e-86ea-f6ad4fd8473f",
   "metadata": {},
   "outputs": [
    {
     "name": "stdout",
     "output_type": "stream",
     "text": [
      "                               SARIMAX Results                                \n",
      "==============================================================================\n",
      "Dep. Variable:                 Amount   No. Observations:                   31\n",
      "Model:                 ARIMA(1, 0, 0)   Log Likelihood                 -39.382\n",
      "Date:                Fri, 20 Oct 2023   AIC                             84.764\n",
      "Time:                        13:02:54   BIC                             89.066\n",
      "Sample:                             0   HQIC                            86.166\n",
      "                                 - 31                                         \n",
      "Covariance Type:                  opg                                         \n",
      "==============================================================================\n",
      "                 coef    std err          z      P>|z|      [0.025      0.975]\n",
      "------------------------------------------------------------------------------\n",
      "const          0.2817      0.183      1.543      0.123      -0.076       0.640\n",
      "ar.L1         -0.2634      0.114     -2.311      0.021      -0.487      -0.040\n",
      "sigma2         0.7412      0.164      4.511      0.000       0.419       1.063\n",
      "===================================================================================\n",
      "Ljung-Box (L1) (Q):                   0.19   Jarque-Bera (JB):                22.46\n",
      "Prob(Q):                              0.66   Prob(JB):                         0.00\n",
      "Heteroskedasticity (H):               0.21   Skew:                             1.59\n",
      "Prob(H) (two-sided):                  0.02   Kurtosis:                         5.70\n",
      "===================================================================================\n",
      "\n",
      "Warnings:\n",
      "[1] Covariance matrix calculated using the outer product of gradients (complex-step).\n"
     ]
    },
    {
     "data": {
      "image/png": "[encoded data removed]",
      "text/plain": [
       "<Figure size 432x288 with 1 Axes>"
      ]
     },
     "metadata": {
      "needs_background": "light"
     },
     "output_type": "display_data"
    },
    {
     "data": {
      "image/png": "[encoded data removed]",
      "text/plain": [
       "<Figure size 432x288 with 1 Axes>"
      ]
     },
     "metadata": {
      "needs_background": "light"
     },
     "output_type": "display_data"
    },
    {
     "name": "stdout",
     "output_type": "stream",
     "text": [
      "               0\n",
      "count  31.000000\n",
      "mean    0.026184\n",
      "std     0.887243\n",
      "min    -0.885914\n",
      "25%    -0.623234\n",
      "50%    -0.188747\n",
      "75%     0.406979\n",
      "max     3.081422\n"
     ]
    }
   ],
   "source": [
    "from pandas import datetime\n",
    "from pandas import read_csv\n",
    "from pandas import DataFrame\n",
    "from statsmodels.tsa.arima.model import ARIMA\n",
    "from matplotlib import pyplot\n",
    "\n",
    "series = invoices_pct\n",
    "# fit model\n",
    "model = ARIMA(series, order=res)\n",
    "model_fit = model.fit()\n",
    "# summary of fit model\n",
    "print(model_fit.summary())\n",
    "# line plot of residuals\n",
    "residuals = DataFrame(model_fit.resid)\n",
    "residuals.plot()\n",
    "pyplot.show()\n",
    "# density plot of residuals\n",
    "residuals.plot(kind='kde')\n",
    "plt.title(\"Density of the residuals\")\n",
    "pyplot.show()\n",
    "# summary stats of residuals\n",
    "print(residuals.describe())"
   ]
  },
  {
   "cell_type": "code",
   "execution_count": 113,
   "id": "9ae1d499-01d7-4b65-ac0f-f0e8775d7024",
   "metadata": {},
   "outputs": [
    {
     "data": {
      "text/plain": [
       "31    0.515572\n",
       "dtype: float64"
      ]
     },
     "execution_count": 113,
     "metadata": {},
     "output_type": "execute_result"
    }
   ],
   "source": [
    "model_fit.forecast()"
   ]
  },
  {
   "cell_type": "code",
   "execution_count": 114,
   "id": "4be18f71-6cff-415c-8d54-368609cec098",
   "metadata": {},
   "outputs": [
    {
     "data": {
      "text/plain": [
       "<AxesSubplot:>"
      ]
     },
     "execution_count": 114,
     "metadata": {},
     "output_type": "execute_result"
    },
    {
     "data": {
      "image/png": "[encoded data removed]",
      "text/plain": [
       "<Figure size 864x576 with 1 Axes>"
      ]
     },
     "metadata": {
      "needs_background": "light"
     },
     "output_type": "display_data"
    }
   ],
   "source": [
    "d = {'Invoices': invoices_pct.values} \n",
    "df = pd.DataFrame(d)\n",
    "df['forecast']=model_fit.predict(start=25, end=31,dynamic=True)\n",
    "df[['Invoices','forecast']].plot(figsize=(12,8))"
   ]
  },
  {
   "cell_type": "code",
   "execution_count": null,
   "id": "8ed6704e-a9db-4083-ac88-57ebb552adf9",
   "metadata": {},
   "outputs": [],
   "source": []
  }
 ],
 "metadata": {
  "kernelspec": {
   "display_name": "Python 3",
   "language": "python",
   "name": "python3"
  },
  "language_info": {
   "codemirror_mode": {
    "name": "ipython",
    "version": 3
   },
   "file_extension": ".py",
   "mimetype": "text/x-python",
   "name": "python",
   "nbconvert_exporter": "python",
   "pygments_lexer": "ipython3",
   "version": "3.7.3"
  }
 },
 "nbformat": 4,
 "nbformat_minor": 5
}
