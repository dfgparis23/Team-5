{
 "cells": [
  {
   "cell_type": "code",
   "execution_count": 1,
   "id": "20e87071-fd20-4ff8-900d-3fecbb8eb17a",
   "metadata": {},
   "outputs": [
    {
     "name": "stdout",
     "output_type": "stream",
     "text": [
      "Defaulting to user installation because normal site-packages is not writeable\n",
      "Requirement already satisfied: flask in ./.local/lib/python3.7/site-packages (2.2.5)\n",
      "Requirement already satisfied: Werkzeug>=2.2.2 in ./.local/lib/python3.7/site-packages (from flask) (2.2.3)\n",
      "Requirement already satisfied: click>=8.0 in ./.local/lib/python3.7/site-packages (from flask) (8.1.7)\n",
      "Requirement already satisfied: itsdangerous>=2.0 in ./.local/lib/python3.7/site-packages (from flask) (2.1.2)\n",
      "Requirement already satisfied: importlib-metadata>=3.6.0 in /opt/tljh/user/lib/python3.7/site-packages (from flask) (4.0.1)\n",
      "Requirement already satisfied: Jinja2>=3.0 in /opt/tljh/user/lib/python3.7/site-packages (from flask) (3.0.0)\n",
      "Requirement already satisfied: typing-extensions>=3.6.4 in /opt/tljh/user/lib/python3.7/site-packages (from importlib-metadata>=3.6.0->flask) (3.10.0.0)\n",
      "Requirement already satisfied: zipp>=0.5 in /opt/tljh/user/lib/python3.7/site-packages (from importlib-metadata>=3.6.0->flask) (3.4.1)\n",
      "Requirement already satisfied: MarkupSafe>=2.0.0rc2 in ./.local/lib/python3.7/site-packages (from Jinja2>=3.0->flask) (2.1.3)\n",
      "Note: you may need to restart the kernel to use updated packages.\n"
     ]
    }
   ],
   "source": [
    "pip install flask\n",
    "pip install pandas openpyxl"
   ]
  },
  {
   "cell_type": "code",
   "execution_count": 3,
   "id": "eb754f41-8411-48fc-bfb7-85358a62f7d1",
   "metadata": {},
   "outputs": [],
   "source": [
    "import pandas as pd\n",
    "import numpy as np\n",
    "import matplotlib.pyplot as plt"
   ]
  },
  {
   "cell_type": "code",
   "execution_count": 4,
   "id": "6889ac32-1bc6-4e11-a729-ae313b46c161",
   "metadata": {},
   "outputs": [],
   "source": [
    "consumer_price_idx = pd.read_excel('shared_data_read_only/consumer_price_index.xlsx')\n",
    "Business_account = pd.read_excel('shared_data_read_only/Business Account.xlsx')\n",
    "Contacts = pd.read_excel('shared_data_read_only/Contacts.xlsx')\n",
    "Invoice_and_Opportunies = pd.read_excel('shared_data_read_only/Invoice and Opportunities.xlsx')\n",
    "Items_and_Opportunies = pd.read_excel('shared_data_read_only/Items and Opportunities.xlsx')\n",
    "Non_stock_items = pd.read_excel('shared_data_read_only/Non-Stock Items.xlsx')\n",
    "Opportunities = pd.read_excel('shared_data_read_only/Opportunities.xlsx')\n"
   ]
  },
  {
   "cell_type": "code",
   "execution_count": 5,
   "id": "827438c4-c425-4403-8110-94702d56257f",
   "metadata": {},
   "outputs": [
    {
     "data": {
      "text/html": [
       "<div>\n",
       "<style scoped>\n",
       "    .dataframe tbody tr th:only-of-type {\n",
       "        vertical-align: middle;\n",
       "    }\n",
       "\n",
       "    .dataframe tbody tr th {\n",
       "        vertical-align: top;\n",
       "    }\n",
       "\n",
       "    .dataframe thead th {\n",
       "        text-align: right;\n",
       "    }\n",
       "</style>\n",
       "<table border=\"1\" class=\"dataframe\">\n",
       "  <thead>\n",
       "    <tr style=\"text-align: right;\">\n",
       "      <th></th>\n",
       "      <th>ContactID</th>\n",
       "      <th>Active</th>\n",
       "      <th>Business Account</th>\n",
       "      <th>Class</th>\n",
       "      <th>Class Name</th>\n",
       "      <th>Financing preference</th>\n",
       "      <th>Owner</th>\n",
       "      <th>Follow-up with</th>\n",
       "      <th>Postal Code</th>\n",
       "      <th>City</th>\n",
       "      <th>State</th>\n",
       "      <th>Code pays</th>\n",
       "      <th>Country Name</th>\n",
       "      <th>Gender</th>\n",
       "      <th>Client Source</th>\n",
       "      <th>Last Modified On</th>\n",
       "      <th>Created On</th>\n",
       "    </tr>\n",
       "  </thead>\n",
       "  <tbody>\n",
       "    <tr>\n",
       "      <th>0</th>\n",
       "      <td>39405</td>\n",
       "      <td>True</td>\n",
       "      <td>C00091</td>\n",
       "      <td>01BUSIN</td>\n",
       "      <td>Business function</td>\n",
       "      <td>NaN</td>\n",
       "      <td>26.0</td>\n",
       "      <td>NaN</td>\n",
       "      <td>WC1V 6JS</td>\n",
       "      <td>London</td>\n",
       "      <td>NaN</td>\n",
       "      <td>GB</td>\n",
       "      <td>United Kingdom of Great Britain and Northern I...</td>\n",
       "      <td>NaN</td>\n",
       "      <td>NaN</td>\n",
       "      <td>2023-07-11 14:37:02.183</td>\n",
       "      <td>2021-06-03 08:35:32.823</td>\n",
       "    </tr>\n",
       "    <tr>\n",
       "      <th>1</th>\n",
       "      <td>41938</td>\n",
       "      <td>True</td>\n",
       "      <td>C06932</td>\n",
       "      <td>03PDG</td>\n",
       "      <td>DG</td>\n",
       "      <td>Apprenticeship tax, Gala Lyon, But en Or Lyon,...</td>\n",
       "      <td>29.0</td>\n",
       "      <td>NaN</td>\n",
       "      <td>69120</td>\n",
       "      <td>VAULX EN VELIN</td>\n",
       "      <td>NaN</td>\n",
       "      <td>FR</td>\n",
       "      <td>France</td>\n",
       "      <td>NaN</td>\n",
       "      <td>NaN</td>\n",
       "      <td>2023-02-07 12:19:14.043</td>\n",
       "      <td>2022-01-05 16:34:58.807</td>\n",
       "    </tr>\n",
       "    <tr>\n",
       "      <th>2</th>\n",
       "      <td>37775</td>\n",
       "      <td>True</td>\n",
       "      <td>C01438</td>\n",
       "      <td>10DIRGENE</td>\n",
       "      <td>General Management</td>\n",
       "      <td>NaN</td>\n",
       "      <td>17.0</td>\n",
       "      <td>8.0</td>\n",
       "      <td>93701</td>\n",
       "      <td>DRANCY</td>\n",
       "      <td>NaN</td>\n",
       "      <td>FR</td>\n",
       "      <td>France</td>\n",
       "      <td>Male</td>\n",
       "      <td>NaN</td>\n",
       "      <td>2021-03-23 07:05:02.557</td>\n",
       "      <td>2021-03-19 06:44:36.557</td>\n",
       "    </tr>\n",
       "    <tr>\n",
       "      <th>3</th>\n",
       "      <td>37776</td>\n",
       "      <td>True</td>\n",
       "      <td>C01430</td>\n",
       "      <td>13ELU</td>\n",
       "      <td>Elected</td>\n",
       "      <td>NaN</td>\n",
       "      <td>17.0</td>\n",
       "      <td>8.0</td>\n",
       "      <td>93000</td>\n",
       "      <td>BOBIGNY</td>\n",
       "      <td>NaN</td>\n",
       "      <td>FR</td>\n",
       "      <td>France</td>\n",
       "      <td>Male</td>\n",
       "      <td>NaN</td>\n",
       "      <td>2021-03-23 07:05:03.410</td>\n",
       "      <td>2021-03-19 06:44:37.070</td>\n",
       "    </tr>\n",
       "    <tr>\n",
       "      <th>4</th>\n",
       "      <td>36942</td>\n",
       "      <td>True</td>\n",
       "      <td>C01204</td>\n",
       "      <td>13ELU</td>\n",
       "      <td>Elected</td>\n",
       "      <td>NaN</td>\n",
       "      <td>6.0</td>\n",
       "      <td>5.0</td>\n",
       "      <td>69140</td>\n",
       "      <td>RILLIEUX-LA-PAPE</td>\n",
       "      <td>NaN</td>\n",
       "      <td>FR</td>\n",
       "      <td>France</td>\n",
       "      <td>Male</td>\n",
       "      <td>NaN</td>\n",
       "      <td>2021-04-13 10:52:53.050</td>\n",
       "      <td>2021-03-17 16:45:45.083</td>\n",
       "    </tr>\n",
       "  </tbody>\n",
       "</table>\n",
       "</div>"
      ],
      "text/plain": [
       "   ContactID  Active Business Account      Class          Class Name  \\\n",
       "0      39405    True           C00091    01BUSIN   Business function   \n",
       "1      41938    True           C06932      03PDG                  DG   \n",
       "2      37775    True           C01438  10DIRGENE  General Management   \n",
       "3      37776    True           C01430      13ELU             Elected   \n",
       "4      36942    True           C01204      13ELU             Elected   \n",
       "\n",
       "                                Financing preference  Owner  Follow-up with  \\\n",
       "0                                                NaN   26.0             NaN   \n",
       "1  Apprenticeship tax, Gala Lyon, But en Or Lyon,...   29.0             NaN   \n",
       "2                                                NaN   17.0             8.0   \n",
       "3                                                NaN   17.0             8.0   \n",
       "4                                                NaN    6.0             5.0   \n",
       "\n",
       "  Postal Code              City State Code pays  \\\n",
       "0    WC1V 6JS            London   NaN        GB   \n",
       "1       69120    VAULX EN VELIN   NaN        FR   \n",
       "2       93701            DRANCY   NaN        FR   \n",
       "3       93000           BOBIGNY   NaN        FR   \n",
       "4       69140  RILLIEUX-LA-PAPE   NaN        FR   \n",
       "\n",
       "                                        Country Name Gender Client Source  \\\n",
       "0  United Kingdom of Great Britain and Northern I...    NaN           NaN   \n",
       "1                                             France    NaN           NaN   \n",
       "2                                             France   Male           NaN   \n",
       "3                                             France   Male           NaN   \n",
       "4                                             France   Male           NaN   \n",
       "\n",
       "         Last Modified On              Created On  \n",
       "0 2023-07-11 14:37:02.183 2021-06-03 08:35:32.823  \n",
       "1 2023-02-07 12:19:14.043 2022-01-05 16:34:58.807  \n",
       "2 2021-03-23 07:05:02.557 2021-03-19 06:44:36.557  \n",
       "3 2021-03-23 07:05:03.410 2021-03-19 06:44:37.070  \n",
       "4 2021-04-13 10:52:53.050 2021-03-17 16:45:45.083  "
      ]
     },
     "execution_count": 5,
     "metadata": {},
     "output_type": "execute_result"
    }
   ],
   "source": [
    "Contacts.head()"
   ]
  },
  {
   "cell_type": "code",
   "execution_count": 6,
   "id": "afc5d43b-1f7a-4502-ba01-0040e16efb8e",
   "metadata": {},
   "outputs": [
    {
     "data": {
      "text/plain": [
       "(5511, 17)"
      ]
     },
     "execution_count": 6,
     "metadata": {},
     "output_type": "execute_result"
    }
   ],
   "source": [
    "Contacts.shape"
   ]
  },
  {
   "cell_type": "code",
   "execution_count": 7,
   "id": "dd19f1fc-1d80-4060-8c52-d349a1cdcdb8",
   "metadata": {},
   "outputs": [
    {
     "data": {
      "text/plain": [
       "1188"
      ]
     },
     "execution_count": 7,
     "metadata": {},
     "output_type": "execute_result"
    }
   ],
   "source": [
    "Contacts['City'].isna().sum()"
   ]
  },
  {
   "cell_type": "code",
   "execution_count": 8,
   "id": "4c4d7614-e857-4d1b-9919-101fd650337c",
   "metadata": {},
   "outputs": [
    {
     "data": {
      "text/plain": [
       "5404"
      ]
     },
     "execution_count": 8,
     "metadata": {},
     "output_type": "execute_result"
    }
   ],
   "source": [
    "Contacts['State'].isna().sum()"
   ]
  },
  {
   "cell_type": "code",
   "execution_count": 9,
   "id": "9daca3c8-0250-493d-a627-9db19af21446",
   "metadata": {},
   "outputs": [
    {
     "data": {
      "text/plain": [
       "1144"
      ]
     },
     "execution_count": 9,
     "metadata": {},
     "output_type": "execute_result"
    }
   ],
   "source": [
    "Contacts['Postal Code'].isna().sum()"
   ]
  },
  {
   "cell_type": "code",
   "execution_count": 10,
   "id": "1149c012-cac1-4630-b29e-08ad6b42148e",
   "metadata": {},
   "outputs": [
    {
     "data": {
      "text/plain": [
       "CALUIRE ET CUIRE        19\n",
       "VALENCE                 17\n",
       "VAULX-EN-VELIN          17\n",
       "LYON CEDEX 02           17\n",
       "TOURCOING               17\n",
       "                        ..\n",
       "BLOIS                    1\n",
       "MACON                    1\n",
       "SAINT CAST LE GUILDO     1\n",
       "Chenôve                  1\n",
       "SEVRAN                   1\n",
       "Name: City, Length: 745, dtype: int64"
      ]
     },
     "execution_count": 10,
     "metadata": {},
     "output_type": "execute_result"
    }
   ],
   "source": [
    "conctacts_by_city = Contacts['City'].value_counts()\n",
    "above_20 = conctacts_by_city[conctacts_by_city>20]\n",
    "less_than_20 = conctacts_by_city[conctacts_by_city<20]\n",
    "less_than_20"
   ]
  },
  {
   "cell_type": "code",
   "execution_count": 11,
   "id": "b5800cf8-bd2c-4ad4-a0b2-8923b6474acf",
   "metadata": {},
   "outputs": [
    {
     "data": {
      "text/plain": [
       "PARIS                   771\n",
       "LYON                    578\n",
       "Paris                   153\n",
       "MARSEILLE                88\n",
       "Lyon                     87\n",
       "                       ... \n",
       "BLOIS                     1\n",
       "MACON                     1\n",
       "SAINT CAST LE GUILDO      1\n",
       "Chenôve                   1\n",
       "SEVRAN                    1\n",
       "Name: City, Length: 775, dtype: int64"
      ]
     },
     "execution_count": 11,
     "metadata": {},
     "output_type": "execute_result"
    }
   ],
   "source": [
    "conctacts_by_city"
   ]
  },
  {
   "cell_type": "code",
   "execution_count": 12,
   "id": "4c468cd0-9b8a-421f-8180-27efcab5091c",
   "metadata": {},
   "outputs": [
    {
     "data": {
      "text/plain": [
       "PARIS                     22\n",
       "LYON                       7\n",
       "NY                         7\n",
       "75                         4\n",
       "PARIS 07 SP                4\n",
       "SW1Y 6QW                   3\n",
       "PARIS LA DÉFENSE CEDEX     3\n",
       "92110                      3\n",
       "MARSEILLE                  3\n",
       "CROIX                      2\n",
       "VILLENEUVE D'ASCQ          2\n",
       "W1W 7LT                    2\n",
       "ENGHIEN-LES-BAINS          2\n",
       "NANTERRE                   2\n",
       "MARCQ EN BAROEUL           2\n",
       "RANG-DU-FLIERS             1\n",
       "34                         1\n",
       "BOULOGNE BILLANCOURT       1\n",
       "ANNECY CEDEX               1\n",
       "59000                      1\n",
       "TOURCOING                  1\n",
       "NEUVILLE EN FERRAIN        1\n",
       "COMINES                    1\n",
       "69320                      1\n",
       "MA                         1\n",
       "LILLE                      1\n",
       "HENIN-BEAUMONT             1\n",
       "69 - RHÔNE                 1\n",
       "DOUAI                      1\n",
       "LYON CEDEX 09              1\n",
       "ONNAING                    1\n",
       "CLEMONT FERRAND            1\n",
       "ROQUEFORT                  1\n",
       "CLUSES                     1\n",
       "COOLE                      1\n",
       "69 RHÔNE                   1\n",
       "VILLEURBANNE               1\n",
       "TASSIN LA DEMI LUNE        1\n",
       "CHAMBÉRY                   1\n",
       "EURALILLE                  1\n",
       "DARDILLY                   1\n",
       "MN                         1\n",
       "BRON                       1\n",
       "AIX EN PROVENCE            1\n",
       "95800                      1\n",
       "69                         1\n",
       "SAINT-MAUR-DES-FOSSÉS      1\n",
       "BOUE                       1\n",
       "SAVOIE                     1\n",
       "MARSEILLE CEDEX 3          1\n",
       "LANNION                    1\n",
       "NOISY LE GRAND             1\n",
       "BOUCHE DU RHÔNE            1\n",
       "BOUCHES-DU-RHÔNE           1\n",
       "Name: State, dtype: int64"
      ]
     },
     "execution_count": 12,
     "metadata": {},
     "output_type": "execute_result"
    }
   ],
   "source": [
    "Contacts['State'].value_counts()"
   ]
  },
  {
   "cell_type": "code",
   "execution_count": 13,
   "id": "4a0fd1aa-2757-48aa-a15d-94886457fc1e",
   "metadata": {},
   "outputs": [
    {
     "data": {
      "text/plain": [
       "<AxesSubplot:>"
      ]
     },
     "execution_count": 13,
     "metadata": {},
     "output_type": "execute_result"
    },
    {
     "data": {
      "image/png": "[encoded data removed]",
      "text/plain": [
       "<Figure size 432x288 with 1 Axes>"
      ]
     },
     "metadata": {
      "needs_background": "light"
     },
     "output_type": "display_data"
    }
   ],
   "source": [
    "above_20.plot(kind = 'bar')"
   ]
  },
  {
   "cell_type": "code",
   "execution_count": 14,
   "id": "f696cd63-98a1-4a74-a936-ae0d62c5bd6d",
   "metadata": {},
   "outputs": [
    {
     "data": {
      "text/plain": [
       "France                                                  5321\n",
       "United States of America                                 128\n",
       "United Kingdom of Great Britain and Northern Ireland      16\n",
       "Switzerland                                               12\n",
       "Germany                                                    8\n",
       "Belgium                                                    6\n",
       "Guadeloupe                                                 3\n",
       "Italy                                                      3\n",
       "Spain                                                      3\n",
       "Reunion !Réunion                                           2\n",
       "Luxembourg                                                 2\n",
       "Netherlands                                                2\n",
       "Austria                                                    1\n",
       "Monaco                                                     1\n",
       "Portugal                                                   1\n",
       "Name: Country Name, dtype: int64"
      ]
     },
     "execution_count": 14,
     "metadata": {},
     "output_type": "execute_result"
    }
   ],
   "source": [
    "conctacts_by_city = Contacts['Country Name'].value_counts()\n",
    "conctacts_by_city"
   ]
  },
  {
   "cell_type": "code",
   "execution_count": 15,
   "id": "6de31c6e-e5b9-4f09-870c-c8c1421aed8a",
   "metadata": {},
   "outputs": [
    {
     "data": {
      "text/plain": [
       "<AxesSubplot:>"
      ]
     },
     "execution_count": 15,
     "metadata": {},
     "output_type": "execute_result"
    },
    {
     "data": {
      "image/png": "[encoded data removed]",
      "text/plain": [
       "<Figure size 432x288 with 1 Axes>"
      ]
     },
     "metadata": {
      "needs_background": "light"
     },
     "output_type": "display_data"
    }
   ],
   "source": [
    "conctacts_by_city.plot(kind = 'bar')"
   ]
  },
  {
   "cell_type": "code",
   "execution_count": 16,
   "id": "a0b2e6d7-b244-42b8-8e53-b11133d5f5e3",
   "metadata": {},
   "outputs": [
    {
     "data": {
      "text/html": [
       "<div>\n",
       "<style scoped>\n",
       "    .dataframe tbody tr th:only-of-type {\n",
       "        vertical-align: middle;\n",
       "    }\n",
       "\n",
       "    .dataframe tbody tr th {\n",
       "        vertical-align: top;\n",
       "    }\n",
       "\n",
       "    .dataframe thead th {\n",
       "        text-align: right;\n",
       "    }\n",
       "</style>\n",
       "<table border=\"1\" class=\"dataframe\">\n",
       "  <thead>\n",
       "    <tr style=\"text-align: right;\">\n",
       "      <th></th>\n",
       "      <th>Business Account</th>\n",
       "      <th>Customer Status</th>\n",
       "      <th>Type</th>\n",
       "      <th>Partner type</th>\n",
       "      <th>Class</th>\n",
       "      <th>Class Name</th>\n",
       "      <th>Activity sector</th>\n",
       "      <th>Parent Business Account</th>\n",
       "      <th>Owner Name</th>\n",
       "      <th>Follow-up with</th>\n",
       "      <th>Postal Code</th>\n",
       "      <th>City</th>\n",
       "      <th>State</th>\n",
       "      <th>Country ID</th>\n",
       "      <th>Country Name</th>\n",
       "      <th>Created On</th>\n",
       "      <th>Last Modified On</th>\n",
       "    </tr>\n",
       "  </thead>\n",
       "  <tbody>\n",
       "    <tr>\n",
       "      <th>0</th>\n",
       "      <td>C00001</td>\n",
       "      <td>Active</td>\n",
       "      <td>Customer</td>\n",
       "      <td>Partner</td>\n",
       "      <td>02FONDA</td>\n",
       "      <td>Foundation</td>\n",
       "      <td>HEALTH - SOCIAL - Social, Associations, Founda...</td>\n",
       "      <td>NaN</td>\n",
       "      <td>2.0</td>\n",
       "      <td>NaN</td>\n",
       "      <td>69009</td>\n",
       "      <td>LYON</td>\n",
       "      <td>NaN</td>\n",
       "      <td>FR</td>\n",
       "      <td>France</td>\n",
       "      <td>2021-02-02 15:35:10.183</td>\n",
       "      <td>2023-01-04 15:51:00.977</td>\n",
       "    </tr>\n",
       "    <tr>\n",
       "      <th>1</th>\n",
       "      <td>C00002</td>\n",
       "      <td>Active</td>\n",
       "      <td>Customer</td>\n",
       "      <td>NaN</td>\n",
       "      <td>NaN</td>\n",
       "      <td>NaN</td>\n",
       "      <td>NaN</td>\n",
       "      <td>NaN</td>\n",
       "      <td>13.0</td>\n",
       "      <td>NaN</td>\n",
       "      <td>69005</td>\n",
       "      <td>Lyon</td>\n",
       "      <td>NaN</td>\n",
       "      <td>FR</td>\n",
       "      <td>France</td>\n",
       "      <td>2021-02-02 15:35:11.213</td>\n",
       "      <td>2021-03-24 16:25:28.393</td>\n",
       "    </tr>\n",
       "    <tr>\n",
       "      <th>2</th>\n",
       "      <td>C00003</td>\n",
       "      <td>Active</td>\n",
       "      <td>Customer</td>\n",
       "      <td>NaN</td>\n",
       "      <td>NaN</td>\n",
       "      <td>NaN</td>\n",
       "      <td>NaN</td>\n",
       "      <td>NaN</td>\n",
       "      <td>NaN</td>\n",
       "      <td>NaN</td>\n",
       "      <td>0</td>\n",
       "      <td>Non renseigné</td>\n",
       "      <td>NaN</td>\n",
       "      <td>FR</td>\n",
       "      <td>France</td>\n",
       "      <td>2021-02-02 15:35:11.457</td>\n",
       "      <td>2021-02-18 09:58:03.387</td>\n",
       "    </tr>\n",
       "    <tr>\n",
       "      <th>3</th>\n",
       "      <td>C00004</td>\n",
       "      <td>Active</td>\n",
       "      <td>Customer</td>\n",
       "      <td>Partner</td>\n",
       "      <td>01SIEGE</td>\n",
       "      <td>Headquarters</td>\n",
       "      <td>BUSINESS ADMINISTRATION - Consulting, Audit, A...</td>\n",
       "      <td>NaN</td>\n",
       "      <td>12.0</td>\n",
       "      <td>NaN</td>\n",
       "      <td>75008</td>\n",
       "      <td>PARIS</td>\n",
       "      <td>NaN</td>\n",
       "      <td>FR</td>\n",
       "      <td>France</td>\n",
       "      <td>2021-02-02 15:35:11.770</td>\n",
       "      <td>2023-08-03 11:08:03.953</td>\n",
       "    </tr>\n",
       "    <tr>\n",
       "      <th>4</th>\n",
       "      <td>C00005</td>\n",
       "      <td>Active</td>\n",
       "      <td>Customer</td>\n",
       "      <td>NaN</td>\n",
       "      <td>NaN</td>\n",
       "      <td>NaN</td>\n",
       "      <td>NaN</td>\n",
       "      <td>NaN</td>\n",
       "      <td>NaN</td>\n",
       "      <td>NaN</td>\n",
       "      <td>0</td>\n",
       "      <td>Non renseigné</td>\n",
       "      <td>NaN</td>\n",
       "      <td>FR</td>\n",
       "      <td>France</td>\n",
       "      <td>2021-02-02 15:35:12.013</td>\n",
       "      <td>2021-02-18 09:58:03.620</td>\n",
       "    </tr>\n",
       "  </tbody>\n",
       "</table>\n",
       "</div>"
      ],
      "text/plain": [
       "  Business Account Customer Status      Type Partner type    Class  \\\n",
       "0           C00001          Active  Customer      Partner  02FONDA   \n",
       "1           C00002          Active  Customer          NaN      NaN   \n",
       "2           C00003          Active  Customer          NaN      NaN   \n",
       "3           C00004          Active  Customer      Partner  01SIEGE   \n",
       "4           C00005          Active  Customer          NaN      NaN   \n",
       "\n",
       "     Class Name                                    Activity sector  \\\n",
       "0    Foundation  HEALTH - SOCIAL - Social, Associations, Founda...   \n",
       "1           NaN                                                NaN   \n",
       "2           NaN                                                NaN   \n",
       "3  Headquarters  BUSINESS ADMINISTRATION - Consulting, Audit, A...   \n",
       "4           NaN                                                NaN   \n",
       "\n",
       "  Parent Business Account  Owner Name  Follow-up with Postal Code  \\\n",
       "0                     NaN         2.0             NaN       69009   \n",
       "1                     NaN        13.0             NaN       69005   \n",
       "2                     NaN         NaN             NaN           0   \n",
       "3                     NaN        12.0             NaN       75008   \n",
       "4                     NaN         NaN             NaN           0   \n",
       "\n",
       "            City State Country ID Country Name              Created On  \\\n",
       "0           LYON   NaN         FR       France 2021-02-02 15:35:10.183   \n",
       "1           Lyon   NaN         FR       France 2021-02-02 15:35:11.213   \n",
       "2  Non renseigné   NaN         FR       France 2021-02-02 15:35:11.457   \n",
       "3          PARIS   NaN         FR       France 2021-02-02 15:35:11.770   \n",
       "4  Non renseigné   NaN         FR       France 2021-02-02 15:35:12.013   \n",
       "\n",
       "         Last Modified On  \n",
       "0 2023-01-04 15:51:00.977  \n",
       "1 2021-03-24 16:25:28.393  \n",
       "2 2021-02-18 09:58:03.387  \n",
       "3 2023-08-03 11:08:03.953  \n",
       "4 2021-02-18 09:58:03.620  "
      ]
     },
     "execution_count": 16,
     "metadata": {},
     "output_type": "execute_result"
    }
   ],
   "source": [
    "Business_account.head()"
   ]
  },
  {
   "cell_type": "code",
   "execution_count": 17,
   "id": "154f057b-7eca-496d-8759-a9d4f5a10353",
   "metadata": {},
   "outputs": [
    {
     "data": {
      "text/plain": [
       "(3483, 17)"
      ]
     },
     "execution_count": 17,
     "metadata": {},
     "output_type": "execute_result"
    }
   ],
   "source": [
    "Business_account.shape"
   ]
  },
  {
   "cell_type": "code",
   "execution_count": 18,
   "id": "c4035513-b188-4b80-bf7b-7aaa9618a3a3",
   "metadata": {},
   "outputs": [
    {
     "data": {
      "text/plain": [
       "203"
      ]
     },
     "execution_count": 18,
     "metadata": {},
     "output_type": "execute_result"
    }
   ],
   "source": [
    "Business_account['Postal Code'].isna().sum()"
   ]
  },
  {
   "cell_type": "code",
   "execution_count": 19,
   "id": "ebc550bc-d7c9-4776-a624-37be7e6bb8c2",
   "metadata": {},
   "outputs": [
    {
     "data": {
      "text/plain": [
       "3394"
      ]
     },
     "execution_count": 19,
     "metadata": {},
     "output_type": "execute_result"
    }
   ],
   "source": [
    "Business_account['State'].isna().sum()"
   ]
  },
  {
   "cell_type": "code",
   "execution_count": 20,
   "id": "8a5be572-3e17-494f-b5a1-da9230051d3d",
   "metadata": {},
   "outputs": [
    {
     "data": {
      "text/plain": [
       "238"
      ]
     },
     "execution_count": 20,
     "metadata": {},
     "output_type": "execute_result"
    }
   ],
   "source": [
    "Business_account['City'].isna().sum()"
   ]
  },
  {
   "cell_type": "code",
   "execution_count": 61,
   "id": "c57420b1-4878-45c1-8a51-ef136acaefaa",
   "metadata": {},
   "outputs": [],
   "source": [
    "city_mapping = {\n",
    "    'PUTEAUX': 'PARIS',\n",
    "    'NEUILLY SUR SEINE': 'PARIS',\n",
    "    'BOULOGNE BILLANCOURT': 'PARIS',\n",
    "    'COURBEVOIE': 'PARIS',\n",
    "    'CLICHY': 'PARIS',\n",
    "    'ROUBAIX': 'LILLE',\n",
    "    'LILLE CEDEX': 'LILLE',\n",
    "    'MARCQ EN BAROEUL': 'LILLE',\n",
    "    'VILLEURBANNE': 'LILLE',\n",
    "    'CALUIRE ET CUIRE': 'LYON',\n",
    "    'ISSY-LES-MOULINEAUX': 'PARIS',\n",
    "    'ISSY LES MOULINEAUX': 'PARIS',\n",
    "    'BOULOGNE-BILLANCOURT': 'PARIS',\n",
    "    'LIMONEST': 'LYON',\n",
    "    \"\"\"VILLENEUVE D'ASCQ\"\"\": 'LILLE',\n",
    "    'PANTIN': 'PARIS',\n",
    "    'Villeurbanne': 'LILLE',\n",
    "    'LEVALLOIS PERRET': 'PARIS',\n",
    "    'Paris': 'PARIS',\n",
    "    'paris': 'PARIS',\n",
    "    'Lyon': 'LYON',\n",
    "    'LYON CEDEX 03': 'LYON',\n",
    "    'LYON CEDEX 02': 'LYON',\n",
    "    'MARCY L ETOILE': 'LYON',\n",
    "    'GUYANCOURT': 'PARIS',\n",
    "    'IVRY-SUR-SEINE': 'PARIS',\n",
    "    'RUEIL MALMAISON': 'PARIS',\n",
    "    'CHATENAY MALABRY': 'PARIS',\n",
    "    'PARIS CEDEX 18': 'PARIS',\n",
    "    'MAISONS-ALFORT CEDEX': 'PARIS',\n",
    "    'PIERRE-BÉNITE CEDEX' : 'LYON',\n",
    "    'PIERRE BENITE' : 'LYON',\n",
    "    'CLICHY CEDEX FRANCE': 'PARIS',\n",
    "    'Clichy': 'PARIS',\n",
    "    'SAINT-OUEN-SUR-SEINE': 'PARIS',\n",
    "    \n",
    "    'SAINT OUEN SUR SEINE': 'PARIS',\n",
    "    'Marseille': 'MARSEILLE',\n",
    "    'ECULLY' : 'LYON',\n",
    "    'ADRESSE NON COMMUNIQUEE': None,\n",
    "    'Non renseigné': None,\n",
    "    'Non rensigné': None\n",
    "}\n",
    "\n",
    "for original_city, new_city in city_mapping.items():\n",
    "    Business_account.loc[Business_account['City'] == original_city, 'City'] = new_city\n"
   ]
  },
  {
   "cell_type": "code",
   "execution_count": 23,
   "id": "3d157e93-5171-4c33-8be2-04e828dc0751",
   "metadata": {},
   "outputs": [],
   "source": [
    "Business_account1 = pd.read_excel('shared_data_read_only/Business Account.xlsx')\n"
   ]
  },
  {
   "cell_type": "code",
   "execution_count": 64,
   "id": "2bd505ee-4043-4fb1-a386-d90054daa651",
   "metadata": {
    "tags": []
   },
   "outputs": [],
   "source": [
    "\n",
    "# Merge Opportunities with Contacts to get the Contact City based on ContactID\n",
    "merged_opportunities_with_contacts = pd.merge(Opportunities, Contacts[['ContactID', 'City']], \n",
    "                                              left_on='Contact ID', right_on='ContactID', how='left')\n",
    "merged_opportunities_with_contacts.rename(columns={'City': 'Contact City'}, inplace=True)\n",
    "\n",
    "# Merge the updated Opportunities with Business Account to get the Business Account City\n",
    "merged_opportunities_with_business_old = pd.merge(merged_opportunities_with_contacts, Business_account1[['Business Account', 'City']], \n",
    "                                              on='Business Account', how='left')\n",
    "merged_opportunities_with_business_old.rename(columns={'City': 'Business Account City original'}, inplace=True)\n",
    "\n",
    "# Merge the updated Opportunities with Business Account to get the Business Account City after mapping\n",
    "merged_opportunities_with_business = pd.merge(merged_opportunities_with_business_old, Business_account[['Business Account', 'City']], \n",
    "                                              on='Business Account', how='left')\n",
    "merged_opportunities_with_business.rename(columns={'City': 'Business Account City'}, inplace=True)\n",
    "\n",
    "# Drop the redundant ContactID column\n",
    "final_opportunities_df = merged_opportunities_with_business.drop(columns=['ContactID'])\n",
    "\n",
    "# Save the updated Opportunities DataFrame back to the file\n",
    "file = 'opp_with_cites.csv'\n",
    "final_opportunities_df.to_csv(file, index=False)\n"
   ]
  },
  {
   "cell_type": "code",
   "execution_count": 66,
   "id": "0e6cd3e5-5bcd-46cb-8946-d4d4541b4797",
   "metadata": {},
   "outputs": [
    {
     "ename": "AttributeError",
     "evalue": "'function' object has no attribute 'HTML'",
     "output_type": "error",
     "traceback": [
      "\u001b[0;31m---------------------------------------------------------------------------\u001b[0m",
      "\u001b[0;31mAttributeError\u001b[0m                            Traceback (most recent call last)",
      "\u001b[0;32m<ipython-input-66-1354dd936563>\u001b[0m in \u001b[0;36m<module>\u001b[0;34m\u001b[0m\n\u001b[0;32m----> 1\u001b[0;31m \u001b[0mdisplay\u001b[0m\u001b[0;34m.\u001b[0m\u001b[0mHTML\u001b[0m\u001b[0;34m(\u001b[0m\u001b[0;34mf'<a href=\"{file}\" target=\"_blank\">Download CSV</a>'\u001b[0m\u001b[0;34m)\u001b[0m\u001b[0;34m\u001b[0m\u001b[0;34m\u001b[0m\u001b[0m\n\u001b[0m",
      "\u001b[0;31mAttributeError\u001b[0m: 'function' object has no attribute 'HTML'"
     ]
    }
   ],
   "source": [
    "display.HTML(f'<a href=\"{file}\" target=\"_blank\">Download CSV</a>')\n"
   ]
  },
  {
   "cell_type": "code",
   "execution_count": 57,
   "id": "0f1c0c82-d880-41a5-b98e-cd6120ce0e1b",
   "metadata": {},
   "outputs": [
    {
     "name": "stdout",
     "output_type": "stream",
     "text": [
      "                City  Total Opportunities  Won Opportunities  \\\n",
      "0              PARIS                 1730             1201.0   \n",
      "1               LYON                 1247              958.0   \n",
      "2              LILLE                  275              173.0   \n",
      "3          MARSEILLE                  107               49.0   \n",
      "4           NEW YORK                   56               33.0   \n",
      "..               ...                  ...                ...   \n",
      "550            LIMAS                    1                0.0   \n",
      "551      LILLE Cedex                    1                1.0   \n",
      "552  LIEUSAINT Cedex                    1                0.0   \n",
      "553    LESQUIN CEDEX                    1                1.0   \n",
      "554           Écully                    1                1.0   \n",
      "\n",
      "     High Quality Opportunities  Average Estimated Amount  \\\n",
      "0                         739.0              35843.217399   \n",
      "1                         595.0              16339.358035   \n",
      "2                         114.0              16065.429564   \n",
      "3                          43.0              18188.887757   \n",
      "4                          24.0              11867.773750   \n",
      "..                          ...                       ...   \n",
      "550                         0.0                 50.000000   \n",
      "551                         1.0                350.000000   \n",
      "552                         0.0              30000.000000   \n",
      "553                         1.0                675.000000   \n",
      "554                         0.0                600.000000   \n",
      "\n",
      "     Average Received Amount  MSE between Estimated and Received  \\\n",
      "0               29798.842783                        4.322738e+09   \n",
      "1               13883.799016                        4.003444e+07   \n",
      "2                8841.259528                        3.044054e+09   \n",
      "3               14904.951087                        2.215849e+09   \n",
      "4                9351.297308                        2.759271e+07   \n",
      "..                       ...                                 ...   \n",
      "550                 0.000000                        0.000000e+00   \n",
      "551               350.000000                        0.000000e+00   \n",
      "552                 0.000000                        0.000000e+00   \n",
      "553               675.000000                        0.000000e+00   \n",
      "554               400.000000                        4.000000e+04   \n",
      "\n",
      "     Total Received Amount  Percentage Won  \n",
      "0              24196660.34       69.421965  \n",
      "1               8469117.40       76.824379  \n",
      "2               1122839.96       62.909091  \n",
      "3                685627.75       45.794393  \n",
      "4                243133.73       58.928571  \n",
      "..                     ...             ...  \n",
      "550                   0.00        0.000000  \n",
      "551                 350.00      100.000000  \n",
      "552                   0.00        0.000000  \n",
      "553                 675.00      100.000000  \n",
      "554                 400.00      100.000000  \n",
      "\n",
      "[555 rows x 9 columns]\n"
     ]
    }
   ],
   "source": [
    "df = final_opportunities_df\n",
    "\n",
    "# 1. Calculate the total number of opportunities per city\n",
    "opportunities_per_city = df.groupby('Business Account City').size().reset_index(name='Total Opportunities')\n",
    "\n",
    "# 2. Calculate the number of won opportunities per city\n",
    "won_opportunities_per_city = df[df['Status'] == 'Won'].groupby('Business Account City').size().reset_index(name='Won Opportunities')\n",
    "\n",
    "# 3. Calculate the number of high-quality opportunities per city\n",
    "high_quality_opportunities = df[df['Difference'] >= 0].groupby('Business Account City').size().reset_index(name='High Quality Opportunities')\n",
    "\n",
    "# 4. Calculate the average estimated amount per city\n",
    "avg_estimated_per_city = df.groupby('Business Account City')['Estimated amount'].mean().reset_index(name='Average Estimated Amount')\n",
    "\n",
    "# 5. Calculate the average received amount per city\n",
    "avg_received_per_city = df.groupby('Business Account City')['Amount received'].mean().reset_index(name='Average Received Amount')\n",
    "\n",
    "# 6. Calculate the MSE between the estimated and received amounts for each city\n",
    "mse_per_city = ((df['Estimated amount'] - df['Amount received'])**2).groupby(df['Business Account City']).mean().reset_index(name='MSE between Estimated and Received')\n",
    "\n",
    "# 7. Calculate the total received amount per city\n",
    "total_received_per_city = df.groupby('Business Account City')['Amount received'].sum().reset_index(name='Total Received Amount')\n",
    "\n",
    "# Merge the results and rename columns for consistency\n",
    "result_table = pd.merge(opportunities_per_city, won_opportunities_per_city, on='Business Account City', how='outer')\n",
    "result_table = pd.merge(result_table, high_quality_opportunities, on='Business Account City', how='outer')\n",
    "result_table = pd.merge(result_table, avg_estimated_per_city, on='Business Account City', how='outer')\n",
    "result_table = pd.merge(result_table, avg_received_per_city, on='Business Account City', how='outer')\n",
    "result_table = pd.merge(result_table, mse_per_city, on='Business Account City', how='outer')\n",
    "result_table = pd.merge(result_table, total_received_per_city, on='Business Account City', how='outer').fillna(0)\n",
    "result_table = result_table.rename(columns={'Business Account City': 'City'})\n",
    "\n",
    "# Calculate the percentage of the won opportunities for each city, handling potential zero division\n",
    "result_table['Percentage Won'] = (result_table['Won Opportunities'] / result_table['Total Opportunities']).fillna(0) * 100\n",
    "\n",
    "# Sort by the total number of opportunities in descending order and reset the index\n",
    "result_table = result_table.sort_values(by='Total Opportunities', ascending=False).reset_index(drop=True)\n",
    "\n",
    "# Display the result\n",
    "print(result_table)\n"
   ]
  },
  {
   "cell_type": "code",
   "execution_count": 58,
   "id": "3f9b77d0-61d7-41a4-9543-c05d0eceb2b1",
   "metadata": {},
   "outputs": [
    {
     "data": {
      "image/png": "[encoded data removed]",
      "text/plain": [
       "<Figure size 1080x576 with 1 Axes>"
      ]
     },
     "metadata": {
      "needs_background": "light"
     },
     "output_type": "display_data"
    }
   ],
   "source": [
    "import matplotlib.pyplot as plt\n",
    "\n",
    "# Sort the result_table by Total Opportunities and get top 7 cities\n",
    "top_7_cities = result_table.sort_values(by='Total Opportunities', ascending=False).head(7)\n",
    "\n",
    "# Set up the figure and axes\n",
    "fig, ax = plt.subplots(figsize=(15, 8))\n",
    "\n",
    "# Create a bar width\n",
    "bar_width = 0.25\n",
    "index = range(len(top_7_cities))\n",
    "\n",
    "# Create bars for Total Opportunities, Won Opportunities, and High Quality Opportunities\n",
    "ax.bar(index, top_7_cities['Total Opportunities'], bar_width, label='Total Opportunities', color='b')\n",
    "ax.bar([i + bar_width for i in index], top_7_cities['Won Opportunities'], bar_width, label='Won Opportunities', color='r')\n",
    "ax.bar([i + bar_width * 2 for i in index], top_7_cities['High Quality Opportunities'], bar_width, label='High Quality Opportunities', color='g')\n",
    "\n",
    "# Set the labels and title\n",
    "ax.set_xlabel('City')\n",
    "ax.set_ylabel('Number of Opportunities')\n",
    "ax.set_title('Top 7 Cities by Opportunities')\n",
    "ax.set_xticks([i + bar_width for i in index])\n",
    "ax.set_xticklabels(top_7_cities['City'])\n",
    "ax.legend()\n",
    "\n",
    "# Rotate city names for better visibility\n",
    "plt.xticks(rotation=45)\n",
    "plt.tight_layout()\n",
    "\n",
    "# Show the plot\n",
    "plt.show()\n"
   ]
  },
  {
   "cell_type": "code",
   "execution_count": 59,
   "id": "4870dceb-4081-480c-ae1d-75605bff0e3c",
   "metadata": {},
   "outputs": [
    {
     "data": {
      "image/png": "[encoded data removed]",
      "text/plain": [
       "<Figure size 720x432 with 1 Axes>"
      ]
     },
     "metadata": {
      "needs_background": "light"
     },
     "output_type": "display_data"
    }
   ],
   "source": [
    "# Sort the result_table by 'Total Received Amount' in descending order and take top 7 cities\n",
    "top_cities = result_table.sort_values(by='Total Received Amount', ascending=False).head(7)\n",
    "\n",
    "# Plotting the histogram\n",
    "plt.figure(figsize=(10, 6))\n",
    "plt.bar(top_cities['City'], top_cities['Total Received Amount'], color='skyblue')\n",
    "plt.xlabel('City')\n",
    "plt.ylabel('Total Received Amount')\n",
    "plt.title('Top 7 Cities by Total Received Amount')\n",
    "plt.xticks(rotation=45)\n",
    "plt.tight_layout()\n",
    "plt.show()\n"
   ]
  },
  {
   "cell_type": "code",
   "execution_count": 60,
   "id": "fefc74fd-f977-488e-a85f-cc0ce3c8f017",
   "metadata": {},
   "outputs": [
    {
     "data": {
      "image/png": "[encoded data removed]",
      "text/plain": [
       "<Figure size 864x504 with 1 Axes>"
      ]
     },
     "metadata": {
      "needs_background": "light"
     },
     "output_type": "display_data"
    }
   ],
   "source": [
    "\n",
    "# Step 1: Sort the dataframe\n",
    "top_7_cities = avg_received_per_city.sort_values(by='Average Received Amount', ascending=False).head(7)\n",
    "\n",
    "# Step 2: Plot the bar chart\n",
    "plt.figure(figsize=(12, 7))\n",
    "plt.bar(top_7_cities['Business Account City'], top_7_cities['Average Received Amount'], color='skyblue')\n",
    "plt.xlabel('City')\n",
    "plt.ylabel('Average Received Amount')\n",
    "plt.title('Top 7 Cities by Average Received Amount')\n",
    "plt.xticks(rotation=45)\n",
    "plt.tight_layout()\n",
    "plt.show()\n"
   ]
  }
 ],
 "metadata": {
  "kernelspec": {
   "display_name": "Python 3",
   "language": "python",
   "name": "python3"
  },
  "language_info": {
   "codemirror_mode": {
    "name": "ipython",
    "version": 3
   },
   "file_extension": ".py",
   "mimetype": "text/x-python",
   "name": "python",
   "nbconvert_exporter": "python",
   "pygments_lexer": "ipython3",
   "version": "3.7.3"
  }
 },
 "nbformat": 4,
 "nbformat_minor": 5
}
